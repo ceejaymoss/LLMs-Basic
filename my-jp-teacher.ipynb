{
 "cells": [
  {
   "cell_type": "code",
   "execution_count": 1,
   "id": "3ff61e33-c510-42d5-b15e-32e6e05beab8",
   "metadata": {
    "tags": []
   },
   "outputs": [
    {
     "name": "stdout",
     "output_type": "stream",
     "text": [
      "Requirement already satisfied: openai in /anaconda/envs/azureml_py38/lib/python3.10/site-packages (1.57.3)\n",
      "Requirement already satisfied: jiter<1,>=0.4.0 in /anaconda/envs/azureml_py38/lib/python3.10/site-packages (from openai) (0.8.2)\n",
      "Requirement already satisfied: anyio<5,>=3.5.0 in /anaconda/envs/azureml_py38/lib/python3.10/site-packages (from openai) (4.6.0)\n",
      "Requirement already satisfied: sniffio in /anaconda/envs/azureml_py38/lib/python3.10/site-packages (from openai) (1.3.1)\n",
      "Requirement already satisfied: distro<2,>=1.7.0 in /anaconda/envs/azureml_py38/lib/python3.10/site-packages (from openai) (1.9.0)\n",
      "Requirement already satisfied: pydantic<3,>=1.9.0 in /anaconda/envs/azureml_py38/lib/python3.10/site-packages (from openai) (2.8.2)\n",
      "Requirement already satisfied: tqdm>4 in /anaconda/envs/azureml_py38/lib/python3.10/site-packages (from openai) (4.66.4)\n",
      "Requirement already satisfied: typing-extensions<5,>=4.11 in /anaconda/envs/azureml_py38/lib/python3.10/site-packages (from openai) (4.12.2)\n",
      "Requirement already satisfied: httpx<1,>=0.23.0 in /anaconda/envs/azureml_py38/lib/python3.10/site-packages (from openai) (0.27.2)\n",
      "Requirement already satisfied: exceptiongroup>=1.0.2 in /anaconda/envs/azureml_py38/lib/python3.10/site-packages (from anyio<5,>=3.5.0->openai) (1.2.2)\n",
      "Requirement already satisfied: idna>=2.8 in /anaconda/envs/azureml_py38/lib/python3.10/site-packages (from anyio<5,>=3.5.0->openai) (3.7)\n",
      "Requirement already satisfied: certifi in /anaconda/envs/azureml_py38/lib/python3.10/site-packages (from httpx<1,>=0.23.0->openai) (2024.8.30)\n",
      "Requirement already satisfied: httpcore==1.* in /anaconda/envs/azureml_py38/lib/python3.10/site-packages (from httpx<1,>=0.23.0->openai) (1.0.5)\n",
      "Requirement already satisfied: h11<0.15,>=0.13 in /anaconda/envs/azureml_py38/lib/python3.10/site-packages (from httpcore==1.*->httpx<1,>=0.23.0->openai) (0.14.0)\n",
      "Requirement already satisfied: annotated-types>=0.4.0 in /anaconda/envs/azureml_py38/lib/python3.10/site-packages (from pydantic<3,>=1.9.0->openai) (0.7.0)\n",
      "Requirement already satisfied: pydantic-core==2.20.1 in /anaconda/envs/azureml_py38/lib/python3.10/site-packages (from pydantic<3,>=1.9.0->openai) (2.20.1)\n",
      "Note: you may need to restart the kernel to use updated packages.\n"
     ]
    }
   ],
   "source": [
    "%pip install openai"
   ]
  },
  {
   "cell_type": "code",
   "execution_count": 2,
   "id": "bc8469dd-1396-4161-8050-27f4f9316acd",
   "metadata": {
    "tags": []
   },
   "outputs": [],
   "source": [
    "import os  \n",
    "from openai import AzureOpenAI  "
   ]
  },
  {
   "cell_type": "code",
   "execution_count": 3,
   "id": "c25e3c09-7700-40cf-b88d-a2411ce354a6",
   "metadata": {
    "tags": []
   },
   "outputs": [],
   "source": [
    "endpoint = os.getenv(\"ENDPOINT_URL\", \"https://cjmou-m4kyfwu0-eastus2.openai.azure.com/\")  \n",
    "deployment = os.getenv(\"DEPLOYMENT_NAME\", \"gpt-35-turbo-16k\")  \n",
    "subscription_key = os.getenv(\"AZURE_OPENAI_API_KEY\", \"\")  "
   ]
  },
  {
   "cell_type": "code",
   "execution_count": 4,
   "id": "5f7b5f47-bcdf-4d33-9c6c-01864034fd95",
   "metadata": {
    "tags": []
   },
   "outputs": [],
   "source": [
    "# Initialize Azure OpenAI client with key-based authentication\n",
    "client = AzureOpenAI(  \n",
    "        azure_endpoint=endpoint,  \n",
    "        api_key=subscription_key,  \n",
    "        api_version=\"2024-05-01-preview\",  \n",
    "    )  "
   ]
  },
  {
   "cell_type": "code",
   "execution_count": 5,
   "id": "cd8b7941-e443-45e6-a9d3-c8af901cdabc",
   "metadata": {
    "tags": []
   },
   "outputs": [],
   "source": [
    "# Prepare the chat prompt  \n",
    "chat_prompt = [\n",
    "    {\n",
    "        \"role\": \"system\",\n",
    "        \"content\": \"Role/Profession: Japanese Language Teacher\\n\\nTone: Cheerful, Concise\\n\\nOutput format: Always provide a word bank\\n\\nInstruction: Direct Users to Japanese language goals\\n\\nWord Bank Example:\\n\\nこんにちは (konnichiwa) - hello\\nありがとう (arigatou) - thank you\\nお願いします (onegaishimasu) - please\\nメニュー (menyū) - menu\\n注文 (chūmon) - order\\nおいしい (oishii) - delicious\\n\\nGood Prompt Examples:\\n\\nUser: I want to learn basic Japanese greetings and introductions. Can you help me with some essential phrases and vocabulary?\\nResponse: こんにちは！ (Konnichiwa!) Hello! I'd be happy to help you with basic Japanese greetings and introductions. Here are some essential phrases to get you started:\\nはじめまして。(Hajimemashite.) - Nice to meet you.\\n私は [your name] です。(Watashi wa [your name] desu.) - I am [your name].\\nお名前は何ですか？ (Onamae wa nan desu ka?) - What is your name?\\nよろしくお願いします。(Yoroshiku onegaishimasu.) - Please treat me kindly. (Used after introductions)\\nお元気ですか？ (Ogenki desu ka?) - How are you?\\nさようなら。(Sayōnara.) - Goodbye.\\n\\nWord Bank:\\n\\n私 (watashi) - I\\nあなた (anata) - you\\n名前 (namae) - name\\nはい (hai) - yes\\nいいえ (iie) - no\\n元気 (genki) - healthy, energetic\\n\\nTo further your Japanese language goals, practice using these phrases in conversations with native speakers or language exchange partners. Don't be afraid to make mistakes – it's part of the learning process! がんばって！ (Ganbatte!) Good luck!\\n\\nUser: I'm planning a trip to Japan and would like to learn how to order food at a restaurant. What are some key phrases and words I should know?\\nResponse: Great question! Ordering food at a restaurant in Japan is a fantastic opportunity to practice your language skills. Here are some key phrases and words to help you:\\n\\nすみません (sumimasen) - Excuse me (to get the waiter's attention)\\nメニューをお願いします (menyū o onegaishimasu) - Menu, please\\nこれをお願いします (kore o onegaishimasu) - This, please (when pointing to an item on the menu)\\nを___ください ( o ___ kudasai) - ___ (quantity) of ___ (item), please\\nお会計をお願いします (okaikei o onegaishimasu) - Check, please\\n___は含まれていますか？ (___wa fukumareteimasu ka?) - Is ___ included?\\n\\nWord Bank:\\n\\n食べ物 (tabemono) - food\\n飲み物 (nomimono) - drink\\nお茶 (ocha) - tea\\nビール (bīru) - beer\\n水 (mizu) - water\\nご飯 (gohan) - rice\\n肉 (niku) - meat\\n魚 (sakana) - fish\\n野菜 (yasai) - vegetable\\n\\nRemember to use polite language and enjoy the delicious food Japan has to offer! いただきます！ (Itadakimasu!) Let's eat!\\n\\nUser: I'm interested in learning Japanese sentence structure. Can you provide some simple example sentences and break them down for me?\\nResponse: Of course! Understanding Japanese sentence structure is crucial for building your language skills. Japanese follows a Subject-Object-Verb (SOV) word order, which is different from English. Here are some simple example sentences:\\n\\n私は学生です。(Watashi wa gakusei desu.) - I am a student.\\n\\n私 (watashi) - I (subject)\\nは (wa) - topic marker\\n学生 (gakusei) - student (object)\\nです (desu) - to be (polite) (verb)\\n\\n彼女は本を読みます。(Kanojo wa hon o yomimasu.) - She reads a book.\\n\\n彼女 (kanojo) - she (subject)\\nは (wa) - topic marker\\n本 (hon) - book (object)\\nを (o) - object marker\\n読みます (yomimasu) - read (polite) (verb)\\n\\nこれは私のペンです。(Kore wa watashi no pen desu.) - This is my pen.\\n\\nこれ (kore) - this (subject)\\nは (wa) - topic marker\\n私 (watashi) - I (possessive)\\nの (no) - possessive marker\\nペン (pen) - pen (object)\\nです (desu) - to be (polite) (verb)\\n\\nWord Bank:\\n\\n彼 (kare) - he\\n彼女 (kanojo) - she\\n私 (watashi) - I\\nこれ (kore) - this\\nそれ (sore) - that\\nあれ (are) - that (over there)\\n本 (hon) - book\\nペン (pen) - pen\\n読む (yomu) - to read\\n書く (kaku) - to write\\n\\nPractice making your own sentences using the word bank and SOV pattern to reinforce your understanding of Japanese sentence structure. Keep up the great work!\\n\\n\"\n",
    "    },\n",
    "    {\n",
    "        \"role\": \"user\",\n",
    "        \"content\": \"Hello\"\n",
    "    },\n",
    "    {\n",
    "        \"role\": \"user\",\n",
    "        \"content\": \"Hello\"\n",
    "    },\n",
    "    {\n",
    "        \"role\": \"assistant\",\n",
    "        \"content\": \"こんにちは！(Konnichiwa!) Hello! How can I assist you today?\"\n",
    "    },\n",
    "    {\n",
    "        \"role\": \"user\",\n",
    "        \"content\": \"I want to learn basic japanese greetings and introductions\"\n",
    "    }\n",
    "] "
   ]
  },
  {
   "cell_type": "code",
   "execution_count": 6,
   "id": "97cec975-6919-4e95-b8c6-34c893b61df4",
   "metadata": {
    "tags": []
   },
   "outputs": [],
   "source": [
    "# Include speech result if speech is enabled  \n",
    "speech_result = chat_prompt       "
   ]
  },
  {
   "cell_type": "code",
   "execution_count": 9,
   "id": "3a09b84f-56a7-4ccb-85d1-e372a3a25598",
   "metadata": {
    "tags": []
   },
   "outputs": [],
   "source": [
    "# Generate the completion  \n",
    "completion = client.chat.completions.create(  \n",
    "        model=deployment,  \n",
    "        messages=speech_result,  \n",
    "        max_tokens=800,  \n",
    "        temperature=0.7,  \n",
    "        top_p=0.95,  \n",
    "        frequency_penalty=0,  \n",
    "        presence_penalty=0,  \n",
    "        stop=None,  \n",
    "        stream=False  \n",
    "    )  \n",
    "\n",
    "    print(completion.to_json())  "
   ]
  }
 ],
 "metadata": {
  "kernelspec": {
   "display_name": "Python 3.8 - AzureML",
   "language": "python",
   "name": "python38-azureml"
  },
  "language_info": {
   "codemirror_mode": {
    "name": "ipython",
    "version": 3
   },
   "file_extension": ".py",
   "mimetype": "text/x-python",
   "name": "python",
   "nbconvert_exporter": "python",
   "pygments_lexer": "ipython3",
   "version": "3.10.11"
  }
 },
 "nbformat": 4,
 "nbformat_minor": 5
}
